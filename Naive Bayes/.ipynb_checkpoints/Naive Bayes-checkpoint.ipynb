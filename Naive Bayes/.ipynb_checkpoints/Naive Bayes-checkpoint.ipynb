{
 "cells": [
  {
   "cell_type": "markdown",
   "id": "6eac256e",
   "metadata": {},
   "source": [
    "# Step 1: Import Libraries"
   ]
  },
  {
   "cell_type": "code",
   "execution_count": null,
   "id": "b0fb71f1",
   "metadata": {},
   "outputs": [],
   "source": [
    "import numpy as np\n",
    "import pandas as pd\n",
    "from joblib import dump\n",
    "from sklearn.model_selection import train_test_split\n",
    "from sklearn.preprocessing import StandardScaler\n",
    "from sklearn.naive_bayes import GaussianNB\n",
    "from sklearn.metrics import accuracy_score, confusion_matrix, classification_report"
   ]
  },
  {
   "cell_type": "markdown",
   "id": "9b685dbf",
   "metadata": {},
   "source": [
    "# Step 2: Load the Dataset"
   ]
  },
  {
   "cell_type": "code",
   "execution_count": null,
   "id": "11011209",
   "metadata": {},
   "outputs": [],
   "source": [
    "data = pd.read_csv('Iris.csv')"
   ]
  },
  {
   "cell_type": "code",
   "execution_count": null,
   "id": "cb75550a",
   "metadata": {},
   "outputs": [],
   "source": [
    "data"
   ]
  },
  {
   "cell_type": "markdown",
   "id": "63d28f62",
   "metadata": {},
   "source": [
    "# Step 3: Split the Data"
   ]
  },
  {
   "cell_type": "code",
   "execution_count": null,
   "id": "8656bed0",
   "metadata": {},
   "outputs": [],
   "source": [
    "X = data.drop(['Species'],axis=1)\n",
    "y= data['Species']"
   ]
  },
  {
   "cell_type": "code",
   "execution_count": null,
   "id": "634d92c5",
   "metadata": {},
   "outputs": [],
   "source": [
    "X_train, X_test, y_train, y_test = train_test_split(X, y, test_size=0.2, random_state=42)"
   ]
  },
  {
   "cell_type": "markdown",
   "id": "f1e98444",
   "metadata": {},
   "source": [
    "# Step 4: Feature Scaling"
   ]
  },
  {
   "cell_type": "code",
   "execution_count": null,
   "id": "95ab5bbe",
   "metadata": {},
   "outputs": [],
   "source": [
    "scaler = StandardScaler()\n",
    "X_train_scaled = scaler.fit_transform(X_train)\n",
    "X_test_scaled = scaler.transform(X_test)"
   ]
  },
  {
   "cell_type": "markdown",
   "id": "64d1b458",
   "metadata": {},
   "source": [
    "# Step 5: Initialize and Train the Model"
   ]
  },
  {
   "cell_type": "code",
   "execution_count": null,
   "id": "1b51f01a",
   "metadata": {},
   "outputs": [],
   "source": [
    "nb_model = GaussianNB()\n",
    "nb_model.fit(X_train_scaled, y_train)\n"
   ]
  },
  {
   "cell_type": "markdown",
   "id": "275a9a78",
   "metadata": {},
   "source": [
    "# Step 6: Make Predictions"
   ]
  },
  {
   "cell_type": "code",
   "execution_count": null,
   "id": "95b6b0e7",
   "metadata": {},
   "outputs": [],
   "source": [
    "y_pred_nb = nb_model.predict(X_test_scaled)"
   ]
  },
  {
   "cell_type": "markdown",
   "id": "2998cd34",
   "metadata": {},
   "source": [
    "# Step 7: Evaluate the Model"
   ]
  },
  {
   "cell_type": "code",
   "execution_count": null,
   "id": "9eef218d",
   "metadata": {},
   "outputs": [],
   "source": [
    "accuracy_nb = accuracy_score(y_test, y_pred_nb)\n",
    "conf_matrix_nb = confusion_matrix(y_test, y_pred_nb)\n",
    "class_report_nb = classification_report(y_test, y_pred_nb)\n",
    "\n",
    "print(\"Naive Bayes Accuracy:\", accuracy_nb)\n",
    "print(\"Naive Bayes Confusion Matrix:\\n\", conf_matrix_nb)\n",
    "print(\"Naive Bayes Classification Report:\\n\", class_report_nb)"
   ]
  },
  {
   "cell_type": "code",
   "execution_count": null,
   "id": "0510a599",
   "metadata": {},
   "outputs": [],
   "source": [
    "import warnings\n",
    "warnings.filterwarnings(\"ignore\")\n",
    "\n",
    "# Iterate over each row in the test set\n",
    "for i in range(len(X_test)):\n",
    "    # Extract input features for the current row\n",
    "    input_features = X_test.iloc[i]\n",
    "    \n",
    "    # Get the actual output for the current row\n",
    "    actual_output = y_test.iloc[i]\n",
    "    \n",
    "    # Predict the output for the current row\n",
    "    input_features_scaled = scaler.transform([input_features])  # Scale input features\n",
    "    predicted_output = nb_model.predict(input_features_scaled)[0]  # Predict output\n",
    "    \n",
    "    # Print input features, predicted output, and actual output\n",
    "    print(\"Input Features:\", input_features.values)\n",
    "    print(\"Predicted Output:\", predicted_output)\n",
    "    print(\"Actual Output:\", actual_output)\n",
    "    print(\"------------------------------------\")"
   ]
  },
  {
   "cell_type": "markdown",
   "id": "7acf61c4",
   "metadata": {},
   "source": [
    "# Step 8: Save the model to a file"
   ]
  },
  {
   "cell_type": "code",
   "execution_count": null,
   "id": "27b7a50d",
   "metadata": {},
   "outputs": [],
   "source": [
    "# model_filename = 'knn_model'\n",
    "# dump(model, model_filename)\n",
    "\n",
    "# print(\"Model saved successfully\")"
   ]
  }
 ],
 "metadata": {
  "kernelspec": {
   "display_name": "Python 3 (ipykernel)",
   "language": "python",
   "name": "python3"
  },
  "language_info": {
   "codemirror_mode": {
    "name": "ipython",
    "version": 3
   },
   "file_extension": ".py",
   "mimetype": "text/x-python",
   "name": "python",
   "nbconvert_exporter": "python",
   "pygments_lexer": "ipython3",
   "version": "3.11.0"
  }
 },
 "nbformat": 4,
 "nbformat_minor": 5
}
