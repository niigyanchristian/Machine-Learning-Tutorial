{
 "cells": [
  {
   "cell_type": "code",
   "execution_count": 1,
   "id": "81b02948",
   "metadata": {},
   "outputs": [],
   "source": [
    "from keras.layers import SimpleRNN, Embedding, Dense\n",
    "from keras.models import Sequential\n",
    "\n",
    "from keras.preprocessing.text import Tokenizer\n",
    "import tensorflow as tf\n",
    "import pandas as pd\n",
    "import numpy as np\n",
    "import matplotlib.pyplot as plt"
   ]
  },
  {
   "cell_type": "code",
   "execution_count": 2,
   "id": "85c4a07e",
   "metadata": {},
   "outputs": [],
   "source": [
    "data = pd.read_csv(\"SPAM - Data.csv\")"
   ]
  },
  {
   "cell_type": "code",
   "execution_count": 3,
   "id": "147e1ea8",
   "metadata": {
    "scrolled": true
   },
   "outputs": [
    {
     "data": {
      "text/html": [
       "<div>\n",
       "<style scoped>\n",
       "    .dataframe tbody tr th:only-of-type {\n",
       "        vertical-align: middle;\n",
       "    }\n",
       "\n",
       "    .dataframe tbody tr th {\n",
       "        vertical-align: top;\n",
       "    }\n",
       "\n",
       "    .dataframe thead th {\n",
       "        text-align: right;\n",
       "    }\n",
       "</style>\n",
       "<table border=\"1\" class=\"dataframe\">\n",
       "  <thead>\n",
       "    <tr style=\"text-align: right;\">\n",
       "      <th></th>\n",
       "      <th>Category</th>\n",
       "      <th>Message</th>\n",
       "    </tr>\n",
       "  </thead>\n",
       "  <tbody>\n",
       "    <tr>\n",
       "      <th>0</th>\n",
       "      <td>ham</td>\n",
       "      <td>Go until jurong point, crazy.. Available only ...</td>\n",
       "    </tr>\n",
       "    <tr>\n",
       "      <th>1</th>\n",
       "      <td>ham</td>\n",
       "      <td>Ok lar... Joking wif u oni...</td>\n",
       "    </tr>\n",
       "    <tr>\n",
       "      <th>2</th>\n",
       "      <td>spam</td>\n",
       "      <td>Free entry in 2 a wkly comp to win FA Cup fina...</td>\n",
       "    </tr>\n",
       "    <tr>\n",
       "      <th>3</th>\n",
       "      <td>ham</td>\n",
       "      <td>U dun say so early hor... U c already then say...</td>\n",
       "    </tr>\n",
       "    <tr>\n",
       "      <th>4</th>\n",
       "      <td>ham</td>\n",
       "      <td>Nah I don't think he goes to usf, he lives aro...</td>\n",
       "    </tr>\n",
       "    <tr>\n",
       "      <th>...</th>\n",
       "      <td>...</td>\n",
       "      <td>...</td>\n",
       "    </tr>\n",
       "    <tr>\n",
       "      <th>5567</th>\n",
       "      <td>spam</td>\n",
       "      <td>This is the 2nd time we have tried 2 contact u...</td>\n",
       "    </tr>\n",
       "    <tr>\n",
       "      <th>5568</th>\n",
       "      <td>ham</td>\n",
       "      <td>Will ü b going to esplanade fr home?</td>\n",
       "    </tr>\n",
       "    <tr>\n",
       "      <th>5569</th>\n",
       "      <td>ham</td>\n",
       "      <td>Pity, * was in mood for that. So...any other s...</td>\n",
       "    </tr>\n",
       "    <tr>\n",
       "      <th>5570</th>\n",
       "      <td>ham</td>\n",
       "      <td>The guy did some bitching but I acted like i'd...</td>\n",
       "    </tr>\n",
       "    <tr>\n",
       "      <th>5571</th>\n",
       "      <td>ham</td>\n",
       "      <td>Rofl. Its true to its name</td>\n",
       "    </tr>\n",
       "  </tbody>\n",
       "</table>\n",
       "<p>5572 rows × 2 columns</p>\n",
       "</div>"
      ],
      "text/plain": [
       "     Category                                            Message\n",
       "0         ham  Go until jurong point, crazy.. Available only ...\n",
       "1         ham                      Ok lar... Joking wif u oni...\n",
       "2        spam  Free entry in 2 a wkly comp to win FA Cup fina...\n",
       "3         ham  U dun say so early hor... U c already then say...\n",
       "4         ham  Nah I don't think he goes to usf, he lives aro...\n",
       "...       ...                                                ...\n",
       "5567     spam  This is the 2nd time we have tried 2 contact u...\n",
       "5568      ham               Will ü b going to esplanade fr home?\n",
       "5569      ham  Pity, * was in mood for that. So...any other s...\n",
       "5570      ham  The guy did some bitching but I acted like i'd...\n",
       "5571      ham                         Rofl. Its true to its name\n",
       "\n",
       "[5572 rows x 2 columns]"
      ]
     },
     "execution_count": 3,
     "metadata": {},
     "output_type": "execute_result"
    }
   ],
   "source": [
    "data"
   ]
  },
  {
   "cell_type": "code",
   "execution_count": 4,
   "id": "eec995a4",
   "metadata": {},
   "outputs": [
    {
     "name": "stdout",
     "output_type": "stream",
     "text": [
      "number of texts : 5572\n",
      "number of labels:  5572\n"
     ]
    }
   ],
   "source": [
    "texts = []\n",
    "labels = []\n",
    "for i, label in enumerate(data['Category']):\n",
    "    texts.append(data['Message'][i])\n",
    "    if label == 'ham':\n",
    "        labels.append(0)\n",
    "    else:\n",
    "        labels.append(1)\n",
    "\n",
    "texts = np.asarray(texts)\n",
    "labels = np.asarray(labels)\n",
    "\n",
    "\n",
    "print(\"number of texts :\" , len(texts))\n",
    "print(\"number of labels: \", len(labels))"
   ]
  },
  {
   "cell_type": "code",
   "execution_count": 5,
   "id": "09c4bbf7",
   "metadata": {},
   "outputs": [],
   "source": [
    "\n",
    "\n",
    "tokenizer = Tokenizer()\n",
    "tokenizer.fit_on_texts(texts)\n",
    "sequences = tokenizer.texts_to_sequences(texts)\n",
    "\n",
    "word_index = tokenizer.word_index\n",
    "# number of words used as features\n",
    "max_features = 10000\n",
    "# cut off the words after seeing 500 words in each document(email)\n",
    "maxlen = 500\n",
    "\n",
    "data = tf.keras.preprocessing.sequence.pad_sequences(sequences, maxlen=maxlen)\n",
    "\n",
    "np.random.seed(42)\n",
    "# shuffle data\n",
    "indices = np.arange(data.shape[0])\n",
    "np.random.shuffle(indices)\n",
    "data = data[indices]\n",
    "labels = labels[indices]\n",
    "\n",
    "\n",
    "# we will use 80% of data as training, 20% as validation data\n",
    "training_samples = int(5572 * .8)\n",
    "X_train = data[:training_samples]\n",
    "y_train = labels[:training_samples]\n",
    "X_test = data[training_samples:]\n",
    "y_test = labels[training_samples:]"
   ]
  },
  {
   "cell_type": "code",
   "execution_count": 6,
   "id": "6b09822c",
   "metadata": {
    "scrolled": true
   },
   "outputs": [
    {
     "name": "stdout",
     "output_type": "stream",
     "text": [
      "Epoch 1/10\n",
      "60/60 [==============================] - 14s 190ms/step - loss: 0.4422 - acc: 0.8062 - val_loss: 0.3127 - val_acc: 0.8677\n",
      "Epoch 2/10\n",
      "60/60 [==============================] - 10s 171ms/step - loss: 0.2785 - acc: 0.8990 - val_loss: 0.1799 - val_acc: 0.9327\n",
      "Epoch 3/10\n",
      "60/60 [==============================] - 10s 168ms/step - loss: 0.0834 - acc: 0.9787 - val_loss: 0.0862 - val_acc: 0.9742\n",
      "Epoch 4/10\n",
      "60/60 [==============================] - 12s 200ms/step - loss: 0.0547 - acc: 0.9860 - val_loss: 0.0591 - val_acc: 0.9843\n",
      "Epoch 5/10\n",
      "60/60 [==============================] - 13s 211ms/step - loss: 0.0315 - acc: 0.9924 - val_loss: 0.0596 - val_acc: 0.9832\n",
      "Epoch 6/10\n",
      "60/60 [==============================] - 13s 211ms/step - loss: 0.0314 - acc: 0.9896 - val_loss: 0.0610 - val_acc: 0.9843\n",
      "Epoch 7/10\n",
      "60/60 [==============================] - 11s 183ms/step - loss: 0.0181 - acc: 0.9950 - val_loss: 0.0616 - val_acc: 0.9843\n",
      "Epoch 8/10\n",
      "60/60 [==============================] - 14s 239ms/step - loss: 0.0156 - acc: 0.9966 - val_loss: 0.0752 - val_acc: 0.9765\n",
      "Epoch 9/10\n",
      "60/60 [==============================] - 12s 207ms/step - loss: 0.0226 - acc: 0.9930 - val_loss: 0.0760 - val_acc: 0.9709\n",
      "Epoch 10/10\n",
      "60/60 [==============================] - 14s 236ms/step - loss: 0.0131 - acc: 0.9972 - val_loss: 0.0617 - val_acc: 0.9821\n"
     ]
    }
   ],
   "source": [
    "model = Sequential()\n",
    "model.add(Embedding(max_features, 32))\n",
    "model.add(SimpleRNN(32))\n",
    "model.add(Dense(1, activation='sigmoid'))\n",
    "\n",
    "model.compile(optimizer='rmsprop', loss='binary_crossentropy', metrics=['acc'])\n",
    "\n",
    "history_rnn = model.fit(X_train, y_train, epochs=10, batch_size=60, validation_split=0.2)"
   ]
  },
  {
   "cell_type": "code",
   "execution_count": 7,
   "id": "4dc7f6bc",
   "metadata": {
    "scrolled": true
   },
   "outputs": [
    {
     "name": "stdout",
     "output_type": "stream",
     "text": [
      "35/35 [==============================] - 2s 35ms/step\n",
      "35/35 [==============================] - 1s 35ms/step - loss: 0.0795 - acc: 0.9785\n",
      "Test loss is 0.08 accuracy is 0.98  \n"
     ]
    }
   ],
   "source": [
    "pred = model.predict(X_test)\n",
    "acc = model.evaluate(X_test, y_test)\n",
    "print(\"Test loss is {0:.2f} accuracy is {1:.2f}  \".format(acc[0],acc[1]))"
   ]
  },
  {
   "cell_type": "code",
   "execution_count": 8,
   "id": "42e6d16d",
   "metadata": {},
   "outputs": [
    {
     "name": "stdout",
     "output_type": "stream",
     "text": [
      "1/1 [==============================] - 0s 40ms/step\n",
      "Predicted label: spam 0.9939955\n"
     ]
    }
   ],
   "source": [
    "# Example message to classify\n",
    "new_message = \"XXXMobileMovieClub: To use your credit, click the WAP link in the next txt message or click here>> http://wap. xxxmobilemovieclub.com?n=QJKGIGHJJGCBL\"\n",
    "\n",
    "# Tokenize and pad the new message\n",
    "new_message_seq = tokenizer.texts_to_sequences([new_message])\n",
    "new_message_pad = tf.keras.preprocessing.sequence.pad_sequences(new_message_seq, maxlen=maxlen)\n",
    "\n",
    "# Make predictions\n",
    "prediction = model.predict(new_message_pad)\n",
    "\n",
    "# Convert prediction to label\n",
    "predicted_label = \"spam\" if prediction[0][0] > 0.5 else \"ham\"\n",
    "\n",
    "print(\"Predicted label:\", predicted_label,prediction[0][0],)"
   ]
  },
  {
   "cell_type": "code",
   "execution_count": null,
   "id": "55e2e65f",
   "metadata": {},
   "outputs": [],
   "source": []
  }
 ],
 "metadata": {
  "kernelspec": {
   "display_name": "Python 3 (ipykernel)",
   "language": "python",
   "name": "python3"
  },
  "language_info": {
   "codemirror_mode": {
    "name": "ipython",
    "version": 3
   },
   "file_extension": ".py",
   "mimetype": "text/x-python",
   "name": "python",
   "nbconvert_exporter": "python",
   "pygments_lexer": "ipython3",
   "version": "3.11.0"
  }
 },
 "nbformat": 4,
 "nbformat_minor": 5
}
