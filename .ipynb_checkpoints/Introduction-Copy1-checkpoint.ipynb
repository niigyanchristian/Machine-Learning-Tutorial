{
 "cells": [
  {
   "cell_type": "markdown",
   "id": "4b3c52c9",
   "metadata": {},
   "source": [
    "# INTRODUCTION TO MACHINE LEARNING\n",
    "Let's make this straight first of all\n",
    "Artificial Intelligence is a field which contains a lot of sub-fields, including Machine Learning. So clearly, Machine Learning is a subfield of Artificial intelligence. \n",
    "\n",
    "### What then is AI?\n",
    "Artificial intelligence is a sub-field of Computer Science, which is the ability of computers to perform tasks which are commonly performed by human beings such as writing making decisions and so on.(human-level thinking)\n",
    "\n",
    "### Sub-Fields of Artificial Intelligence\n",
    "Machine Learning is the sub-field of AI that involves the creation of algorithms and statistical models which are capable of learning from provided data. So ML is the part that teaches AI systems on how to act to situations.\n",
    "\n",
    "### Other fields include\n",
    "Natural Language Processing which is responsible for enabling AI systems to interact by understanding and using spoken words and texts.\n",
    "Computer Vision, Robotics, Expert Systems etc.\n",
    "\n",
    "### What ML entails...\n",
    "There must be some kind of **DATA** initially in any form where by an **ALGORITHM** is used to processed such data and then **TRAIN** a model with the data, make **PREDICTIONS or INFERENCE** and finally **EVALUATE** the performance of the model. \n",
    "\n",
    "#### Forms of Learning:\n",
    "1. **Supervised Learning:** \n",
    "With this, we're given a data set of input-output pairs, then we **learn a function** or **train a model** to map inputs to its output.\\\n",
    "    a. Classification \\\n",
    "    b. Regression\n",
    "\n",
    "2. **Unsupervised Learning:**\n",
    " Unlike supervised, rather than providing both input and output data to guide the model, it only provides the input data and lets the algorithm make correlations. The goal of unsupervised learning is to find the underlying structure of dataset, group that data according to similarities, and represent that dataset in a compressed format.(Clustering)\n",
    "\n",
    " 3. **Semi supervised learning:**\n",
    " lies on the spectrum between unsupervised and supervised learning. It combines the most significant aspects of both worlds to provide a unique set of algorithms.\n",
    "\n",
    " 4. **Reinforcement Learning:** \n",
    " The algorithm's goal is to improve itself through a continual cycle of trials and errors by receiving rewards or punishments based on its actions.\n",
    "\n",
    " 6. **Active learning**: Learn by asking for the most informative labeled (interacts with a human or an environment to select the most informative data points for training)\n",
    " 7. **Transfer learning etc.**"
   ]
  },
  {
   "cell_type": "markdown",
   "id": "bf141c30",
   "metadata": {},
   "source": [
    "## Data\n",
    "Lets Start with data!!.\\\n",
    "A data set is any collection of data. It can be anything from an array to a whole database.\n",
    "\n",
    "* #### Data Preprocessing\n",
    "Data preprocessing is like preparing ingredients before cooking a meal. It is the initial phase of data preparation in \n",
    "which raw data is transformed, cleaned, and organized to \n",
    "make it suitable for analysis or machine learning.\n",
    "\n",
    "\n",
    "Here's what it involves in simple terms:\n",
    "\n",
    "1. **Cleaning**: Removing any errors or inconsistencies in the data, like missing values or duplicates.\n",
    "\n",
    "2. **Transforming**: Modifying the data to make it more suitable for analysis or modeling. This might include converting data types, scaling features, or encoding categorical variables.\n",
    "\n",
    "3. **Reducing Size**: Sometimes, data can be too large or complex. Preprocessing may involve reducing its size or dimensionality while preserving important information.\n",
    "\n",
    "4. **Normalizing**: Ensuring that all features have the same scale, so one feature doesn't dominate others just because of its scale.\n",
    "\n",
    "* #### Data Types\n",
    "    a. **Numerical data** ( Continuous Data, Discrete Data )\\\n",
    "    b. **Categorical data** are values that cannot be measured up against each other ( Nominal Data, Ordinal data )\n",
    "    \n",
    "* #### Data visualization\n",
    "    Visualization types:\\\n",
    "    • 1D: bar chart, pie chart, histogram\\\n",
    "    • 2D: scatter plot, line plot, box and whisker plot, heatmap\\\n",
    "    • 3D+: scatter matrix, bubble chart\n",
    "* #### Data Transformation\n",
    "    1. Handling missing data\\\n",
    "        a. By deleting the particular row: \\\n",
    "        b. By calculating the mean: \n",
    "    2. Encoding Categorical data:   \n",
    "        a. LabelEncoder() class from preprocessing library.\\\n",
    "        b. OneHotEncoder class also of preprocessing library. \n",
    "    3. Feature Scaling : Goal is to bring them all within the same range.\\\n",
    "        a. StandardScaler class of sklearn.preprocessing\\\n",
    "        b. Standardized score(z).\n",
    "        c. Min-max scaling\n",
    "    4. Dimensionality Reduction\\\n",
    "        Feature Extraction\\\n",
    "        Feature Selection\\\n",
    "        Feature Engineering    \n",
    "    5. Splitting the Dataset into the Training set and Test set    \\\n",
    "        x_train: features for the training data\\\n",
    "        x_test: features for testing data\\\n",
    "        y_train: Dependent variables for training data\\\n",
    "        y_test: Independent variable for testing data\n",
    "       "
   ]
  },
  {
   "cell_type": "markdown",
   "id": "9290d397",
   "metadata": {},
   "source": [
    "1. What is the difference between StandardScaler and normalization?\n",
    "The main difference is that Standard Scalar is applied on Columns, while Normalizer is applied on rows, So make sure you reshape your data before normalizing it"
   ]
  },
  {
   "attachments": {
    "image-2.png": {
     "image/png": "[encoded data removed]"
    },
    "image.png": {
     "image/png": "[encoded data removed]"
    }
   },
   "cell_type": "markdown",
   "id": "010b63db",
   "metadata": {},
   "source": [
    "2. What is the difference between Ordinal Encoding and Nominal Encoding\n",
    "#### Ordinal Encoding\n",
    "![image-2.png](attachment:image-2.png)\n",
    "\n",
    "#### Nominal Encoding\n",
    "![image.png](attachment:image.png) \n"
   ]
  }
 ],
 "metadata": {
  "kernelspec": {
   "display_name": "Python 3 (ipykernel)",
   "language": "python",
   "name": "python3"
  },
  "language_info": {
   "codemirror_mode": {
    "name": "ipython",
    "version": 3
   },
   "file_extension": ".py",
   "mimetype": "text/x-python",
   "name": "python",
   "nbconvert_exporter": "python",
   "pygments_lexer": "ipython3",
   "version": "3.11.0"
  }
 },
 "nbformat": 4,
 "nbformat_minor": 5
}
