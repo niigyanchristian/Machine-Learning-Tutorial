{
 "cells": [
  {
   "cell_type": "markdown",
   "id": "eafda42c",
   "metadata": {},
   "source": [
    "# Step 1: Import Libraries"
   ]
  },
  {
   "cell_type": "code",
   "execution_count": 1,
   "id": "1fa99c87",
   "metadata": {},
   "outputs": [],
   "source": [
    "import numpy as np\n",
    "import pandas as pd\n",
    "from joblib import dump\n",
    "from sklearn.model_selection import train_test_split\n",
    "from sklearn.preprocessing import StandardScaler\n",
    "from sklearn.linear_model import LogisticRegression\n",
    "from sklearn.metrics import accuracy_score, confusion_matrix, classification_report"
   ]
  },
  {
   "cell_type": "markdown",
   "id": "5fc1e5fb",
   "metadata": {},
   "source": [
    "# Step 2: Load the Dataset"
   ]
  },
  {
   "cell_type": "code",
   "execution_count": 2,
   "id": "b77cc722",
   "metadata": {},
   "outputs": [],
   "source": [
    "data = pd.read_csv('Iris.csv')"
   ]
  },
  {
   "cell_type": "code",
   "execution_count": 3,
   "id": "d6eac389",
   "metadata": {},
   "outputs": [],
   "source": [
    "# data.info()"
   ]
  },
  {
   "cell_type": "code",
   "execution_count": 4,
   "id": "ea565718",
   "metadata": {},
   "outputs": [],
   "source": [
    "X = data.drop('Species', axis=1)\n",
    "y = data['Species']"
   ]
  },
  {
   "cell_type": "markdown",
   "id": "3123449b",
   "metadata": {},
   "source": [
    "# Step 3: Split the Data"
   ]
  },
  {
   "cell_type": "code",
   "execution_count": 5,
   "id": "6edcd33a",
   "metadata": {},
   "outputs": [],
   "source": [
    "X_train, X_test, y_train, y_test = train_test_split(X, y, test_size=0.2, random_state=42)"
   ]
  },
  {
   "cell_type": "markdown",
   "id": "1709e566",
   "metadata": {},
   "source": [
    "# Step 4: Feature Scaling"
   ]
  },
  {
   "cell_type": "code",
   "execution_count": 6,
   "id": "ad106419",
   "metadata": {},
   "outputs": [],
   "source": [
    "scaler = StandardScaler()\n",
    "X_train_scaled = scaler.fit_transform(X_train)\n",
    "X_test_scaled = scaler.transform(X_test)"
   ]
  },
  {
   "cell_type": "markdown",
   "id": "8be973d8",
   "metadata": {},
   "source": [
    "# Step 5: Initialize and Train the Model"
   ]
  },
  {
   "cell_type": "code",
   "execution_count": 7,
   "id": "5cbf51a7",
   "metadata": {},
   "outputs": [
    {
     "data": {
      "text/html": [
       "<style>#sk-container-id-1 {color: black;background-color: white;}#sk-container-id-1 pre{padding: 0;}#sk-container-id-1 div.sk-toggleable {background-color: white;}#sk-container-id-1 label.sk-toggleable__label {cursor: pointer;display: block;width: 100%;margin-bottom: 0;padding: 0.3em;box-sizing: border-box;text-align: center;}#sk-container-id-1 label.sk-toggleable__label-arrow:before {content: \"▸\";float: left;margin-right: 0.25em;color: #696969;}#sk-container-id-1 label.sk-toggleable__label-arrow:hover:before {color: black;}#sk-container-id-1 div.sk-estimator:hover label.sk-toggleable__label-arrow:before {color: black;}#sk-container-id-1 div.sk-toggleable__content {max-height: 0;max-width: 0;overflow: hidden;text-align: left;background-color: #f0f8ff;}#sk-container-id-1 div.sk-toggleable__content pre {margin: 0.2em;color: black;border-radius: 0.25em;background-color: #f0f8ff;}#sk-container-id-1 input.sk-toggleable__control:checked~div.sk-toggleable__content {max-height: 200px;max-width: 100%;overflow: auto;}#sk-container-id-1 input.sk-toggleable__control:checked~label.sk-toggleable__label-arrow:before {content: \"▾\";}#sk-container-id-1 div.sk-estimator input.sk-toggleable__control:checked~label.sk-toggleable__label {background-color: #d4ebff;}#sk-container-id-1 div.sk-label input.sk-toggleable__control:checked~label.sk-toggleable__label {background-color: #d4ebff;}#sk-container-id-1 input.sk-hidden--visually {border: 0;clip: rect(1px 1px 1px 1px);clip: rect(1px, 1px, 1px, 1px);height: 1px;margin: -1px;overflow: hidden;padding: 0;position: absolute;width: 1px;}#sk-container-id-1 div.sk-estimator {font-family: monospace;background-color: #f0f8ff;border: 1px dotted black;border-radius: 0.25em;box-sizing: border-box;margin-bottom: 0.5em;}#sk-container-id-1 div.sk-estimator:hover {background-color: #d4ebff;}#sk-container-id-1 div.sk-parallel-item::after {content: \"\";width: 100%;border-bottom: 1px solid gray;flex-grow: 1;}#sk-container-id-1 div.sk-label:hover label.sk-toggleable__label {background-color: #d4ebff;}#sk-container-id-1 div.sk-serial::before {content: \"\";position: absolute;border-left: 1px solid gray;box-sizing: border-box;top: 0;bottom: 0;left: 50%;z-index: 0;}#sk-container-id-1 div.sk-serial {display: flex;flex-direction: column;align-items: center;background-color: white;padding-right: 0.2em;padding-left: 0.2em;position: relative;}#sk-container-id-1 div.sk-item {position: relative;z-index: 1;}#sk-container-id-1 div.sk-parallel {display: flex;align-items: stretch;justify-content: center;background-color: white;position: relative;}#sk-container-id-1 div.sk-item::before, #sk-container-id-1 div.sk-parallel-item::before {content: \"\";position: absolute;border-left: 1px solid gray;box-sizing: border-box;top: 0;bottom: 0;left: 50%;z-index: -1;}#sk-container-id-1 div.sk-parallel-item {display: flex;flex-direction: column;z-index: 1;position: relative;background-color: white;}#sk-container-id-1 div.sk-parallel-item:first-child::after {align-self: flex-end;width: 50%;}#sk-container-id-1 div.sk-parallel-item:last-child::after {align-self: flex-start;width: 50%;}#sk-container-id-1 div.sk-parallel-item:only-child::after {width: 0;}#sk-container-id-1 div.sk-dashed-wrapped {border: 1px dashed gray;margin: 0 0.4em 0.5em 0.4em;box-sizing: border-box;padding-bottom: 0.4em;background-color: white;}#sk-container-id-1 div.sk-label label {font-family: monospace;font-weight: bold;display: inline-block;line-height: 1.2em;}#sk-container-id-1 div.sk-label-container {text-align: center;}#sk-container-id-1 div.sk-container {/* jupyter's `normalize.less` sets `[hidden] { display: none; }` but bootstrap.min.css set `[hidden] { display: none !important; }` so we also need the `!important` here to be able to override the default hidden behavior on the sphinx rendered scikit-learn.org. See: https://github.com/scikit-learn/scikit-learn/issues/21755 */display: inline-block !important;position: relative;}#sk-container-id-1 div.sk-text-repr-fallback {display: none;}</style><div id=\"sk-container-id-1\" class=\"sk-top-container\"><div class=\"sk-text-repr-fallback\"><pre>LogisticRegression()</pre><b>In a Jupyter environment, please rerun this cell to show the HTML representation or trust the notebook. <br />On GitHub, the HTML representation is unable to render, please try loading this page with nbviewer.org.</b></div><div class=\"sk-container\" hidden><div class=\"sk-item\"><div class=\"sk-estimator sk-toggleable\"><input class=\"sk-toggleable__control sk-hidden--visually\" id=\"sk-estimator-id-1\" type=\"checkbox\" checked><label for=\"sk-estimator-id-1\" class=\"sk-toggleable__label sk-toggleable__label-arrow\">LogisticRegression</label><div class=\"sk-toggleable__content\"><pre>LogisticRegression()</pre></div></div></div></div></div>"
      ],
      "text/plain": [
       "LogisticRegression()"
      ]
     },
     "execution_count": 7,
     "metadata": {},
     "output_type": "execute_result"
    }
   ],
   "source": [
    "model = LogisticRegression()\n",
    "model.fit(X_train_scaled, y_train)"
   ]
  },
  {
   "cell_type": "markdown",
   "id": "21ce29e0",
   "metadata": {},
   "source": [
    "# Step 6: Make Predictions"
   ]
  },
  {
   "cell_type": "code",
   "execution_count": 8,
   "id": "94d159f2",
   "metadata": {},
   "outputs": [],
   "source": [
    "y_pred = model.predict(X_test_scaled)"
   ]
  },
  {
   "cell_type": "markdown",
   "id": "fe9051ba",
   "metadata": {},
   "source": [
    "# Step 7: Evaluate the Model"
   ]
  },
  {
   "cell_type": "code",
   "execution_count": 9,
   "id": "50cfa8fa",
   "metadata": {},
   "outputs": [
    {
     "name": "stdout",
     "output_type": "stream",
     "text": [
      "Accuracy: 1.0\n",
      "Confusion Matrix:\n",
      " [[10  0  0]\n",
      " [ 0  9  0]\n",
      " [ 0  0 11]]\n",
      "Classification Report:\n",
      "                  precision    recall  f1-score   support\n",
      "\n",
      "    Iris-setosa       1.00      1.00      1.00        10\n",
      "Iris-versicolor       1.00      1.00      1.00         9\n",
      " Iris-virginica       1.00      1.00      1.00        11\n",
      "\n",
      "       accuracy                           1.00        30\n",
      "      macro avg       1.00      1.00      1.00        30\n",
      "   weighted avg       1.00      1.00      1.00        30\n",
      "\n"
     ]
    }
   ],
   "source": [
    "accuracy = accuracy_score(y_test, y_pred)\n",
    "conf_matrix = confusion_matrix(y_test, y_pred)\n",
    "class_report = classification_report(y_test, y_pred)\n",
    "\n",
    "print(\"Accuracy:\", accuracy)\n",
    "print(\"Confusion Matrix:\\n\", conf_matrix)\n",
    "print(\"Classification Report:\\n\", class_report)"
   ]
  },
  {
   "cell_type": "markdown",
   "id": "1316ccf9",
   "metadata": {},
   "source": [
    "**Precision**: How many detected elements were relevant."
   ]
  },
  {
   "cell_type": "code",
   "execution_count": 10,
   "id": "8eff8496",
   "metadata": {},
   "outputs": [
    {
     "name": "stdout",
     "output_type": "stream",
     "text": [
      "Input Features: [6.1 2.8 4.7 1.2]\n",
      "Predicted Output: Iris-versicolor\n",
      "Actual Output: Iris-versicolor\n",
      "------------------------------------\n",
      "Input Features: [5.7 3.8 1.7 0.3]\n",
      "Predicted Output: Iris-setosa\n",
      "Actual Output: Iris-setosa\n",
      "------------------------------------\n",
      "Input Features: [7.7 2.6 6.9 2.3]\n",
      "Predicted Output: Iris-virginica\n",
      "Actual Output: Iris-virginica\n",
      "------------------------------------\n",
      "Input Features: [6.  2.9 4.5 1.5]\n",
      "Predicted Output: Iris-versicolor\n",
      "Actual Output: Iris-versicolor\n",
      "------------------------------------\n",
      "Input Features: [6.8 2.8 4.8 1.4]\n",
      "Predicted Output: Iris-versicolor\n",
      "Actual Output: Iris-versicolor\n",
      "------------------------------------\n",
      "Input Features: [5.4 3.4 1.5 0.4]\n",
      "Predicted Output: Iris-setosa\n",
      "Actual Output: Iris-setosa\n",
      "------------------------------------\n",
      "Input Features: [5.6 2.9 3.6 1.3]\n",
      "Predicted Output: Iris-versicolor\n",
      "Actual Output: Iris-versicolor\n",
      "------------------------------------\n",
      "Input Features: [6.9 3.1 5.1 2.3]\n",
      "Predicted Output: Iris-virginica\n",
      "Actual Output: Iris-virginica\n",
      "------------------------------------\n",
      "Input Features: [6.2 2.2 4.5 1.5]\n",
      "Predicted Output: Iris-versicolor\n",
      "Actual Output: Iris-versicolor\n",
      "------------------------------------\n",
      "Input Features: [5.8 2.7 3.9 1.2]\n",
      "Predicted Output: Iris-versicolor\n",
      "Actual Output: Iris-versicolor\n",
      "------------------------------------\n",
      "Input Features: [6.5 3.2 5.1 2. ]\n",
      "Predicted Output: Iris-virginica\n",
      "Actual Output: Iris-virginica\n",
      "------------------------------------\n",
      "Input Features: [4.8 3.  1.4 0.1]\n",
      "Predicted Output: Iris-setosa\n",
      "Actual Output: Iris-setosa\n",
      "------------------------------------\n",
      "Input Features: [5.5 3.5 1.3 0.2]\n",
      "Predicted Output: Iris-setosa\n",
      "Actual Output: Iris-setosa\n",
      "------------------------------------\n",
      "Input Features: [4.9 3.1 1.5 0.1]\n",
      "Predicted Output: Iris-setosa\n",
      "Actual Output: Iris-setosa\n",
      "------------------------------------\n",
      "Input Features: [5.1 3.8 1.5 0.3]\n",
      "Predicted Output: Iris-setosa\n",
      "Actual Output: Iris-setosa\n",
      "------------------------------------\n",
      "Input Features: [6.3 3.3 4.7 1.6]\n",
      "Predicted Output: Iris-versicolor\n",
      "Actual Output: Iris-versicolor\n",
      "------------------------------------\n",
      "Input Features: [6.5 3.  5.8 2.2]\n",
      "Predicted Output: Iris-virginica\n",
      "Actual Output: Iris-virginica\n",
      "------------------------------------\n",
      "Input Features: [5.6 2.5 3.9 1.1]\n",
      "Predicted Output: Iris-versicolor\n",
      "Actual Output: Iris-versicolor\n",
      "------------------------------------\n",
      "Input Features: [5.7 2.8 4.5 1.3]\n",
      "Predicted Output: Iris-versicolor\n",
      "Actual Output: Iris-versicolor\n",
      "------------------------------------\n",
      "Input Features: [6.4 2.8 5.6 2.2]\n",
      "Predicted Output: Iris-virginica\n",
      "Actual Output: Iris-virginica\n",
      "------------------------------------\n",
      "Input Features: [4.7 3.2 1.6 0.2]\n",
      "Predicted Output: Iris-setosa\n",
      "Actual Output: Iris-setosa\n",
      "------------------------------------\n",
      "Input Features: [6.1 3.  4.9 1.8]\n",
      "Predicted Output: Iris-virginica\n",
      "Actual Output: Iris-virginica\n",
      "------------------------------------\n",
      "Input Features: [5.  3.4 1.6 0.4]\n",
      "Predicted Output: Iris-setosa\n",
      "Actual Output: Iris-setosa\n",
      "------------------------------------\n",
      "Input Features: [6.4 2.8 5.6 2.1]\n",
      "Predicted Output: Iris-virginica\n",
      "Actual Output: Iris-virginica\n",
      "------------------------------------\n",
      "Input Features: [7.9 3.8 6.4 2. ]\n",
      "Predicted Output: Iris-virginica\n",
      "Actual Output: Iris-virginica\n",
      "------------------------------------\n",
      "Input Features: [6.7 3.  5.2 2.3]\n",
      "Predicted Output: Iris-virginica\n",
      "Actual Output: Iris-virginica\n",
      "------------------------------------\n",
      "Input Features: [6.7 2.5 5.8 1.8]\n",
      "Predicted Output: Iris-virginica\n",
      "Actual Output: Iris-virginica\n",
      "------------------------------------\n",
      "Input Features: [6.8 3.2 5.9 2.3]\n",
      "Predicted Output: Iris-virginica\n",
      "Actual Output: Iris-virginica\n",
      "------------------------------------\n",
      "Input Features: [4.8 3.  1.4 0.3]\n",
      "Predicted Output: Iris-setosa\n",
      "Actual Output: Iris-setosa\n",
      "------------------------------------\n",
      "Input Features: [4.8 3.1 1.6 0.2]\n",
      "Predicted Output: Iris-setosa\n",
      "Actual Output: Iris-setosa\n",
      "------------------------------------\n"
     ]
    }
   ],
   "source": [
    "import warnings\n",
    "warnings.filterwarnings(\"ignore\")\n",
    "\n",
    "# Iterate over each row in the test set\n",
    "for i in range(len(X_test)):\n",
    "    # Extract input features for the current row\n",
    "    input_features = X_test.iloc[i]\n",
    "    \n",
    "    # Get the actual output for the current row\n",
    "    actual_output = y_test.iloc[i]\n",
    "    \n",
    "    # Predict the output for the current row\n",
    "    input_features_scaled = scaler.transform([input_features])  # Scale input features\n",
    "    predicted_output = model.predict(input_features_scaled)[0]  # Predict output\n",
    "    \n",
    "    # Print input features, predicted output, and actual output\n",
    "    print(\"Input Features:\", input_features.values)\n",
    "    print(\"Predicted Output:\", predicted_output)\n",
    "    print(\"Actual Output:\", actual_output)\n",
    "    print(\"------------------------------------\")"
   ]
  },
  {
   "cell_type": "markdown",
   "id": "1cb13e11",
   "metadata": {},
   "source": [
    "# Step 7: Save the model to a file"
   ]
  },
  {
   "cell_type": "code",
   "execution_count": null,
   "id": "cdf44af7",
   "metadata": {},
   "outputs": [],
   "source": [
    "model_filename = 'logistic_regression_model.joblib'\n",
    "dump(model, model_filename)\n",
    "print(\"Model saved successfully as\", model_filename)"
   ]
  }
 ],
 "metadata": {
  "kernelspec": {
   "display_name": "Python 3 (ipykernel)",
   "language": "python",
   "name": "python3"
  },
  "language_info": {
   "codemirror_mode": {
    "name": "ipython",
    "version": 3
   },
   "file_extension": ".py",
   "mimetype": "text/x-python",
   "name": "python",
   "nbconvert_exporter": "python",
   "pygments_lexer": "ipython3",
   "version": "3.11.0"
  }
 },
 "nbformat": 4,
 "nbformat_minor": 5
}
