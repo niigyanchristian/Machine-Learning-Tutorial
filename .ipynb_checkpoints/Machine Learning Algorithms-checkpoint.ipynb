{
 "cells": [
  {
   "cell_type": "markdown",
   "id": "f0a2b363",
   "metadata": {},
   "source": [
    "# Machine Learning Algorithms"
   ]
  },
  {
   "cell_type": "markdown",
   "id": "53c75ac9",
   "metadata": {},
   "source": [
    "What Next?\n",
    "We move to the learning algorithms.\n",
    "#### Supervised Learning.\n",
    "1. Regression Analysis: \n",
    " technique used for predicting a continuous outcome variable (also called the dependent variable) based on one or more predictor variables (also called independent variables or features).   \n",
    " - The goal is to  find the relationship between the input variables and the target variable, allowing us to make predictions on new, unseen data.\n",
    " Types\\\n",
    " **a. Linear Regression:** One of the easiest and most popular algorithms. shows a linear relationship between a dependent (y) and one or more independent (x) variables.\\\n",
    "    i. Simple Linear Regression\\\n",
    "    ii. Multiple Linear Regression\\\n",
    "**b. Polynomial Regression:**\n",
    "**c. Logistic Regression:**\n",
    "**d. Support Vector Regression:** \n",
    "\n",
    "To predict the categorical values, we need Classification algorithms.\n",
    "They are used to identify the category of new observations on the basis of training data, classifies into groups or classes Such as, Yes or No, 0 or 1, Spam or Not Spam, cancer or no cancer etc.\n",
    "- Binary Classifier: If the classification problem has only two possible outcomes, then it is called as Binary Classifier.\n",
    "Examples: YES or NO,\n",
    "- Multi-class Classifier: If a classification problem has more than two outcomes, then it is called as Multi-class Classifier.\n",
    "TYPES OF ML CLASSIFICATION ALGORITHMS:\n",
    "1. Linear models\n",
    "    - Logistic Regression \n",
    "    - SVM\n",
    "2. Non-linear models\n",
    "    - K-nearest neighbor\n",
    "    - Kernel SVM\n",
    "    - Naive Bayes\n",
    "    -  Decision Tree Classification\n",
    "    - Random forest Classification\n",
    "We can evaluate classification models with:\n",
    "1. Log Loss or Cross-Entropy Loss:\n",
    "2. Confusion Matrix:\n",
    "3. AUC-ROC curve:"
   ]
  },
  {
   "cell_type": "markdown",
   "id": "5d3867e6",
   "metadata": {},
   "source": [
    "* Next, we can now do the Logistic Regression Model or algorithm\n",
    "It is used for predicting the categorical dependent variable using a given set of independent variables.\n",
    "* Next, we can look at K-NN - its a lazy learner since it classifies based on similarity of stored data\n",
    "* Next, We can do SVM\n",
    "  used for Classification as well as Regression problems. However, primarily, it is used for Classification problems in Machine Learning.\n",
    "* Next we can do Naive Bayes algorithm.\n",
    "\n",
    "I don't know what dataset and the specific steps we for take to implement these specific methods but I hope say you barb the flow?"
   ]
  }
 ],
 "metadata": {
  "kernelspec": {
   "display_name": "Python 3 (ipykernel)",
   "language": "python",
   "name": "python3"
  },
  "language_info": {
   "codemirror_mode": {
    "name": "ipython",
    "version": 3
   },
   "file_extension": ".py",
   "mimetype": "text/x-python",
   "name": "python",
   "nbconvert_exporter": "python",
   "pygments_lexer": "ipython3",
   "version": "3.11.0"
  }
 },
 "nbformat": 4,
 "nbformat_minor": 5
}
