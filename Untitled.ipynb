{
 "cells": [
  {
   "cell_type": "code",
   "execution_count": null,
   "id": "52a1c79a",
   "metadata": {},
   "outputs": [],
   "source": [
    "# Step 1: Import Libraries\n",
    "import numpy as np\n",
    "import pandas as pd\n",
    "import seaborn as sns\n",
    "from joblib import dump\n",
    "import matplotlib.pyplot as plt\n",
    "from sklearn.model_selection import train_test_split\n",
    "from sklearn.linear_model import LinearRegression\n",
    "from sklearn.metrics import mean_squared_error, r2_score"
   ]
  },
  {
   "cell_type": "code",
   "execution_count": null,
   "id": "e961bfc0",
   "metadata": {},
   "outputs": [],
   "source": [
    "# Step 2: Load the Dataset\n",
    "data = pd.read_csv('Ice Cream Sales - temperatures.csv')\n",
    "\n",
    "sns.scatterplot(x=\"Ice Cream Profits\", y=\"Temperature\", data=data, color=\"lightblue\")\n",
    "plt.title(\"Ice Cream Profits - Temperature\")\n",
    "plt.xlabel(\"Ice Cream Profits\")\n",
    "plt.ylabel(\"Temperature\")\n",
    "plt.show()"
   ]
  },
  {
   "cell_type": "code",
   "execution_count": null,
   "id": "be783ef5",
   "metadata": {},
   "outputs": [],
   "source": [
    "# Step 3: Split the Data\n",
    "X = data.drop('Ice Cream Profits', axis=1)\n",
    "y = data['Ice Cream Profits']\n",
    "X_train, X_test, y_train, y_test = train_test_split(X, y, test_size=0.2, random_state=42)"
   ]
  },
  {
   "cell_type": "code",
   "execution_count": null,
   "id": "5fd015f9",
   "metadata": {},
   "outputs": [],
   "source": [
    "# Step 4: Initialize and Train the Model\n",
    "lr_model = LinearRegression()\n",
    "lr_model.fit(X_train, y_train)"
   ]
  },
  {
   "cell_type": "code",
   "execution_count": null,
   "id": "bea1eca6",
   "metadata": {},
   "outputs": [],
   "source": [
    "# Step 5: Make Predictions\n",
    "y_pred = lr_model.predict(X_test)"
   ]
  },
  {
   "cell_type": "code",
   "execution_count": null,
   "id": "f34f0811",
   "metadata": {},
   "outputs": [],
   "source": [
    "# Step 6: Evaluate the Model\n",
    "mse = mean_squared_error(y_test, y_pred)\n",
    "r2 = r2_score(y_test, y_pred)\n",
    "\n",
    "print(\"Mean Squared Error:\", mse)\n",
    "print(\"R-squared Score:\", r2)"
   ]
  },
  {
   "cell_type": "code",
   "execution_count": null,
   "id": "a2f679cc",
   "metadata": {},
   "outputs": [],
   "source": [
    "# Step7\n",
    "model_filename = 'lr_model'\n",
    "dump(lr_model,model_filename)\n",
    "print(\"Model have been saved successfully\")"
   ]
  }
 ],
 "metadata": {
  "kernelspec": {
   "display_name": "Python 3 (ipykernel)",
   "language": "python",
   "name": "python3"
  },
  "language_info": {
   "codemirror_mode": {
    "name": "ipython",
    "version": 3
   },
   "file_extension": ".py",
   "mimetype": "text/x-python",
   "name": "python",
   "nbconvert_exporter": "python",
   "pygments_lexer": "ipython3",
   "version": "3.11.0"
  }
 },
 "nbformat": 4,
 "nbformat_minor": 5
}
